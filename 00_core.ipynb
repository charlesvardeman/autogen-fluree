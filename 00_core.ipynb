{
 "cells": [
  {
   "cell_type": "markdown",
   "metadata": {},
   "source": [
    "# core\n",
    "\n",
    "> Fill in a module description here"
   ]
  },
  {
   "cell_type": "code",
   "execution_count": null,
   "metadata": {},
   "outputs": [],
   "source": [
    "#| default_exp core"
   ]
  },
  {
   "cell_type": "code",
   "execution_count": null,
   "metadata": {},
   "outputs": [],
   "source": [
    "#| hide\n",
    "from nbdev.showdoc import *"
   ]
  },
  {
   "cell_type": "code",
   "execution_count": 56,
   "metadata": {},
   "outputs": [],
   "source": [
    "from dotenv import load_dotenv\n",
    "import os\n",
    "\n",
    "# Load environment variables from .env file\n",
    "load_dotenv()\n",
    "\n",
    "# Access the OpenAI API key\n",
    "openai_api_key = os.getenv('OPENAI_API_KEY')\n",
    "# Access the Fluree server URL from environment variables\n",
    "fluree_url = os.getenv('FLUREE_URL')"
   ]
  },
  {
   "cell_type": "code",
   "execution_count": 101,
   "metadata": {},
   "outputs": [
    {
     "name": "stdout",
     "output_type": "stream",
     "text": [
      "[\n",
      "  {\n",
      "    \"_id\": 17592186044426,\n",
      "    \"_collection/name\": \"_ctx\",\n",
      "    \"_collection/doc\": \"Context keys and values.\",\n",
      "    \"_collection/version\": \"1\"\n",
      "  },\n",
      "  {\n",
      "    \"_id\": 17592186044425,\n",
      "    \"_collection/name\": \"_setting\",\n",
      "    \"_collection/doc\": \"Database settings.\",\n",
      "    \"_collection/version\": \"1\"\n",
      "  },\n",
      "  {\n",
      "    \"_id\": 17592186044424,\n",
      "    \"_collection/name\": \"_rule\",\n",
      "    \"_collection/doc\": \"Permission rules\",\n",
      "    \"_collection/version\": \"1\"\n",
      "  },\n",
      "  {\n",
      "    \"_id\": 17592186044423,\n",
      "    \"_collection/name\": \"_role\",\n",
      "    \"_collection/doc\": \"Roles group multiple permission rules to an assignable category, like 'employee', 'customer'.\",\n",
      "    \"_collection/version\": \"1\"\n",
      "  },\n",
      "  {\n",
      "    \"_id\": 17592186044422,\n",
      "    \"_collection/name\": \"_auth\",\n",
      "    \"_collection/doc\": \"Auth records. Every db interaction is performed by an auth record which governs permissions.\",\n",
      "    \"_collection/version\": \"1\"\n",
      "  },\n",
      "  {\n",
      "    \"_id\": 17592186044421,\n",
      "    \"_collection/name\": \"_user\",\n",
      "    \"_collection/doc\": \"Database users\",\n",
      "    \"_collection/version\": \"1\"\n",
      "  },\n",
      "  {\n",
      "    \"_id\": 17592186044420,\n",
      "    \"_collection/name\": \"_fn\",\n",
      "    \"_collection/doc\": \"Database functions\",\n",
      "    \"_collection/version\": \"1\"\n",
      "  },\n",
      "  {\n",
      "    \"_id\": 17592186044419,\n",
      "    \"_collection/name\": \"_tag\",\n",
      "    \"_collection/doc\": \"Tags\",\n",
      "    \"_collection/version\": \"1\"\n",
      "  },\n",
      "  {\n",
      "    \"_id\": 17592186044418,\n",
      "    \"_collection/name\": \"_shard\",\n",
      "    \"_collection/doc\": \"Shard settings.\",\n",
      "    \"_collection/version\": \"1\"\n",
      "  },\n",
      "  {\n",
      "    \"_id\": 17592186044417,\n",
      "    \"_collection/name\": \"_collection\",\n",
      "    \"_collection/doc\": \"Schema collections list\",\n",
      "    \"_collection/version\": \"1\"\n",
      "  },\n",
      "  {\n",
      "    \"_id\": 17592186044416,\n",
      "    \"_collection/name\": \"_predicate\",\n",
      "    \"_collection/doc\": \"Schema predicate definition\",\n",
      "    \"_collection/version\": \"1\"\n",
      "  }\n",
      "]\n"
     ]
    }
   ],
   "source": [
    " import requests\n",
    " import json\n",
    "\n",
    " # Define the Fluree endpoint\n",
    " url = \"http://localhost:8090/fdb/e616/prov/query\"\n",
    "\n",
    " # Define the query\n",
    " query = {\n",
    "     \"select\": [\"*\"],\n",
    "     \"from\": \"_collection\"\n",
    " }\n",
    "\n",
    " # Send the POST request\n",
    " response = requests.post(url, json=query)\n",
    "\n",
    " # Check if the request was successful\n",
    " if response.status_code == 200:\n",
    "     # Parse the JSON response\n",
    "     result = response.json()\n",
    "     print(json.dumps(result, indent=2))\n",
    " else:\n",
    "     print(f\"Error: {response.status_code}, {response.text}\")\n",
    "\n"
   ]
  },
  {
   "cell_type": "code",
   "execution_count": 63,
   "metadata": {
    "isPromptEdit": false
   },
   "outputs": [
    {
     "name": "stdout",
     "output_type": "stream",
     "text": [
      "An error occurred: HTTPSConnectionPool(host='localhost', port=8090): Max retries exceeded with url: /status (Caused by SSLError(SSLEOFError(8, '[SSL: UNEXPECTED_EOF_WHILE_READING] EOF occurred in violation of protocol (_ssl.c:1006)')))\n"
     ]
    }
   ],
   "source": [
    "# Define a function to send a simple request to the Fluree instance\n",
    "import os\n",
    "import requests\n",
    "def hello_fluree():\n",
    "    try:\n",
    "        # Send a basic GET request to the Fluree instance to check status\n",
    "        response = requests.get(fluree_url + '/status', verify=False)\n",
    "        \n",
    "        # Check if the request was successful\n",
    "        if response.status_code == 200:\n",
    "            print(\"Connected to Fluree server successfully!\")\n",
    "            print(\"Server Status:\", response.json())\n",
    "        else:\n",
    "            print(f\"Failed to connect to Fluree server. Status code: {response.status_code}\")\n",
    "    \n",
    "    except Exception as e:\n",
    "        print(f\"An error occurred: {e}\")\n",
    "\n",
    "# Call the function to test connection\n",
    "hello_fluree()"
   ]
  },
  {
   "cell_type": "code",
   "execution_count": null,
   "metadata": {},
   "outputs": [],
   "source": [
    "#| hide\n",
    "import nbdev; nbdev.nbdev_export()"
   ]
  }
 ],
 "metadata": {
  "kernelspec": {
   "display_name": "Python 3 (ipykernel)",
   "language": "python",
   "name": "python3"
  },
  "language_info": {
   "codemirror_mode": {
    "name": "ipython",
    "version": 3
   },
   "file_extension": ".py",
   "mimetype": "text/x-python",
   "name": "python",
   "nbconvert_exporter": "python",
   "pygments_lexer": "ipython3",
   "version": "3.11.6"
  }
 },
 "nbformat": 4,
 "nbformat_minor": 4
}
